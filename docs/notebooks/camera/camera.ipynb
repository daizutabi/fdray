{
 "cells": [
  {
   "cell_type": "markdown",
   "metadata": {},
   "source": [
    "# Camera\n",
    "\n",
    "## Location"
   ]
  },
  {
   "cell_type": "code",
   "execution_count": null,
   "metadata": {},
   "outputs": [],
   "source": [
    "from fdray import *\n",
    "\n",
    "Scene(\n",
    "    Camera(30, 30, view_scale=1.2),\n",
    "    LightSource(0, \"white\"),  # at camera location\n",
    "    Cylinder((0, 0, 0), (1, 0, 0), 0.1, Color(\"red\")),\n",
    "    Cylinder((0, 0, 0), (0, 1, 0), 0.1, Color(\"green\")),\n",
    "    Cylinder((0, 0, 0), (0, 0, 1), 0.1, Color(\"blue\")),\n",
    ").render(width=300, height=300)"
   ]
  },
  {
   "cell_type": "markdown",
   "metadata": {},
   "source": [
    "The camera implementation is based on the following Qiita article\n",
    "\n",
    " - Title: Efficient Camera Settings in POV-Ray\n",
    " - Author: @Hyrodium (Yuto Horikawa)\n",
    " - URL: https://qiita.com/Hyrodium/items/af91b1ddb8ea2c4359c2\n",
    " - Date: 2017-12-07\n",
    "\n",
    "We adopt the spherical coordinate system for camera positioning\n",
    "and the calculation methods for direction, right, and up vectors."
   ]
  },
  {
   "cell_type": "markdown",
   "metadata": {},
   "source": [
    "## Orbital Location\n",
    "\n",
    "Calculate a position in orbit around the camera's location\n",
    "\n",
    "Imagine tilting your head up (`angle`) and then rotating\n",
    "counter-clockwise (`rotation`):\n",
    "\n",
    "- First, move `forward` along viewing direction (0=at `camera.location`,\n",
    "    1=at `camera.look_at`). Negative values move behind the camera.\n",
    "- Then, tilt up from viewing direction by `angle` degrees\n",
    "- Finally, rotate counter-clockwise from up by `rotation` degrees\n",
    "    (0=up, 90=left, 180=down, 270=right)"
   ]
  },
  {
   "cell_type": "code",
   "execution_count": 2,
   "metadata": {},
   "outputs": [],
   "source": [
    "def render(camera: Camera, *args):\n",
    "    return Scene(\n",
    "        camera,\n",
    "        LightSource(0, \"white\"),\n",
    "        Cylinder((0, 0, 0), (2, 0, 0), 0.02, Color(\"red\")),\n",
    "        Cylinder((0, 0, 0), (0, 2, 0), 0.02, Color(\"green\")),\n",
    "        Cylinder((0, 0, 0), (0, 0, 2), 0.02, Color(\"blue\")),\n",
    "        *args,\n",
    "    ).render(width=400, height=400)"
   ]
  },
  {
   "cell_type": "code",
   "execution_count": null,
   "metadata": {},
   "outputs": [],
   "source": [
    "from math import asin, degrees, sqrt\n",
    "\n",
    "distance = 4\n",
    "camera = Camera(0, 0, view_scale=2.5, look_at=(0, 0, 0), distance=distance)\n",
    "n = sqrt(distance**2 + 2**2)\n",
    "p = camera.orbital_location(n / distance, degrees(asin(2 / n)))\n",
    "print(p)\n",
    "s1 = Sphere(p, 0.14, Color(\"purple\", 0.5))\n",
    "p = camera.orbital_location(n / distance, degrees(asin(2 / n)), -90)\n",
    "print(p)\n",
    "s2 = Sphere(p, 0.14, Color(\"cyan\", 0.5))\n",
    "render(camera, s1, s2)"
   ]
  }
 ],
 "metadata": {
  "kernelspec": {
   "display_name": ".venv",
   "language": "python",
   "name": "python3"
  },
  "language_info": {
   "codemirror_mode": {
    "name": "ipython",
    "version": 3
   },
   "file_extension": ".py",
   "mimetype": "text/x-python",
   "name": "python",
   "nbconvert_exporter": "python",
   "pygments_lexer": "ipython3",
   "version": "3.13.2"
  }
 },
 "nbformat": 4,
 "nbformat_minor": 2
}
