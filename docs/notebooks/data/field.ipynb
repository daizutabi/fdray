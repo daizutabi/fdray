{
 "cells": [
  {
   "cell_type": "code",
   "execution_count": 1,
   "metadata": {},
   "outputs": [
    {
     "data": {
      "image/png": "[encoded data removed]",
      "text/plain": [
       "<PIL.PngImagePlugin.PngImageFile image mode=RGBA size=300x200>"
      ]
     },
     "execution_count": 1,
     "metadata": {},
     "output_type": "execute_result"
    }
   ],
   "source": [
    "from fdray import *\n",
    "from fdray.data import from_field\n",
    "\n",
    "\n",
    "def get_object(x):\n",
    "    return Sphere(0, x, Color(\"blue\", alpha=2 * x))\n",
    "\n",
    "\n",
    "Scene(\n",
    "    Camera(-90, 0, view_scale=1.5, look_at=(1, 0, 0)),\n",
    "    LightSource(0, \"white\"),\n",
    "    from_field([0.2, 0.4, 0.3], get_object, ndim=0),\n",
    ").render(300, 200)"
   ]
  },
  {
   "cell_type": "code",
   "execution_count": 121,
   "metadata": {},
   "outputs": [
    {
     "name": "stdout",
     "output_type": "stream",
     "text": [
      "merge { cone { <-0.1, 0, 0>, 0.2, <0.6, 0, 0>, 0.02 } cylinder { <-0.3, 0, 0>, <0, 0, 0>, 0.1 } pigment { rgbt <1, 1, 0, 0.5> } finish { specular 0.3 } rotate <0, 0, 0> union { cylinder { <0, 0, 0>, <0.7, 0, 0>, 0.02 pigment { rgb <1, 0, 0> } } cylinder { <0, 0, 0>, <0, 0.7, 0>, 0.02 pigment { rgb <0, 0.502, 0> } } cylinder { <0, 0, 0>, <0, 0, 0.7>, 0.02 pigment { rgb <0, 0, 1> } } } }\n",
      "merge { cone { <-0.1, 0, 0>, 0.2, <0.6, 0, 0>, 0.02 } cylinder { <-0.3, 0, 0>, <0, 0, 0>, 0.1 } pigment { rgbt <1, 1, 0, 0.5> } finish { specular 0.3 } rotate <0, 0, 90> union { cylinder { <0, 0, 0>, <0.7, 0, 0>, 0.02 pigment { rgb <1, 0, 0> } } cylinder { <0, 0, 0>, <0, 0.7, 0>, 0.02 pigment { rgb <0, 0.502, 0> } } cylinder { <0, 0, 0>, <0, 0, 0.7>, 0.02 pigment { rgb <0, 0, 1> } } } }\n",
      "merge { cone { <-0.1, 0, 0>, 0.2, <0.6, 0, 0>, 0.02 } cylinder { <-0.3, 0, 0>, <0, 0, 0>, 0.1 } pigment { rgbt <1, 1, 0, 0.5> } finish { specular 0.3 } rotate <0, 0, -90> union { cylinder { <0, 0, 0>, <0.7, 0, 0>, 0.02 pigment { rgb <1, 0, 0> } } cylinder { <0, 0, 0>, <0, 0.7, 0>, 0.02 pigment { rgb <0, 0.502, 0> } } cylinder { <0, 0, 0>, <0, 0, 0.7>, 0.02 pigment { rgb <0, 0, 1> } } } }\n",
      "merge { cone { <-0.1, 0, 0>, 0.2, <0.6, 0, 0>, 0.02 } cylinder { <-0.3, 0, 0>, <0, 0, 0>, 0.1 } pigment { rgbt <1, 1, 0, 0.5> } finish { specular 0.3 } rotate <0, -90, 0> union { cylinder { <0, 0, 0>, <0.7, 0, 0>, 0.02 pigment { rgb <1, 0, 0> } } cylinder { <0, 0, 0>, <0, 0.7, 0>, 0.02 pigment { rgb <0, 0.502, 0> } } cylinder { <0, 0, 0>, <0, 0, 0.7>, 0.02 pigment { rgb <0, 0, 1> } } } }\n",
      "merge { cone { <-0.1, 0, 0>, 0.2, <0.6, 0, 0>, 0.02 } cylinder { <-0.3, 0, 0>, <0, 0, 0>, 0.1 } pigment { rgbt <1, 1, 0, 0.5> } finish { specular 0.3 } rotate <0, 90, 0> union { cylinder { <0, 0, 0>, <0.7, 0, 0>, 0.02 pigment { rgb <1, 0, 0> } } cylinder { <0, 0, 0>, <0, 0.7, 0>, 0.02 pigment { rgb <0, 0.502, 0> } } cylinder { <0, 0, 0>, <0, 0, 0.7>, 0.02 pigment { rgb <0, 0, 1> } } } }\n",
      "merge { cone { <-0.1, 0, 0>, 0.2, <0.6, 0, 0>, 0.02 } cylinder { <-0.3, 0, 0>, <0, 0, 0>, 0.1 } pigment { rgbt <1, 1, 0, 0.5> } finish { specular 0.3 } rotate <0, -35.264, 45> union { cylinder { <0, 0, 0>, <0.7, 0, 0>, 0.02 pigment { rgb <1, 0, 0> } } cylinder { <0, 0, 0>, <0, 0.7, 0>, 0.02 pigment { rgb <0, 0.502, 0> } } cylinder { <0, 0, 0>, <0, 0, 0.7>, 0.02 pigment { rgb <0, 0, 1> } } } }\n",
      "merge { cone { <-0.1, 0, 0>, 0.2, <0.6, 0, 0>, 0.02 } cylinder { <-0.3, 0, 0>, <0, 0, 0>, 0.1 } pigment { rgbt <1, 1, 0, 0.5> } finish { specular 0.3 } rotate <0, 35.264, -45> union { cylinder { <0, 0, 0>, <0.7, 0, 0>, 0.02 pigment { rgb <1, 0, 0> } } cylinder { <0, 0, 0>, <0, 0.7, 0>, 0.02 pigment { rgb <0, 0.502, 0> } } cylinder { <0, 0, 0>, <0, 0, 0.7>, 0.02 pigment { rgb <0, 0, 1> } } } }\n"
     ]
    },
    {
     "ename": "RenderError",
     "evalue": "POV-Ray rendering failed:\n==== [Parsing...] ==========================================================\nFile '/tmp/tmp9yebml5m/scene.pov' line 5: Parse Error: No matching } in 'merge',\n union found instead\nFatal error in parser: Cannot parse input.\nRender failed\n",
     "output_type": "error",
     "traceback": [
      "\u001b[31m---------------------------------------------------------------------------\u001b[39m",
      "\u001b[31mRenderError\u001b[39m                               Traceback (most recent call last)",
      "\u001b[36mCell\u001b[39m\u001b[36m \u001b[39m\u001b[32mIn[121]\u001b[39m\u001b[32m, line 32\u001b[39m\n\u001b[32m     23\u001b[39m     \u001b[38;5;28;01mreturn\u001b[39;00m c\n\u001b[32m     26\u001b[39m f = [[\u001b[32m1\u001b[39m, \u001b[32m0\u001b[39m, \u001b[32m0\u001b[39m], [\u001b[32m0\u001b[39m, \u001b[32m1\u001b[39m, \u001b[32m0\u001b[39m], [\u001b[32m0\u001b[39m, -\u001b[32m1\u001b[39m, \u001b[32m0\u001b[39m], [\u001b[32m0\u001b[39m, \u001b[32m0\u001b[39m, \u001b[32m1\u001b[39m], [\u001b[32m0\u001b[39m, \u001b[32m0\u001b[39m, -\u001b[32m1\u001b[39m], [\u001b[32m1\u001b[39m, \u001b[32m1\u001b[39m, \u001b[32m1\u001b[39m], [\u001b[32m1\u001b[39m, -\u001b[32m1\u001b[39m, -\u001b[32m1\u001b[39m]]\n\u001b[32m     28\u001b[39m \u001b[43mScene\u001b[49m\u001b[43m(\u001b[49m\n\u001b[32m     29\u001b[39m \u001b[43m    \u001b[49m\u001b[43mCamera\u001b[49m\u001b[43m(\u001b[49m\u001b[43m-\u001b[49m\u001b[32;43m70\u001b[39;49m\u001b[43m,\u001b[49m\u001b[43m \u001b[49m\u001b[32;43m10\u001b[39;49m\u001b[43m,\u001b[49m\u001b[43m \u001b[49m\u001b[43mview_scale\u001b[49m\u001b[43m=\u001b[49m\u001b[32;43m1.7\u001b[39;49m\u001b[43m,\u001b[49m\u001b[43m \u001b[49m\u001b[43mlook_at\u001b[49m\u001b[43m=\u001b[49m\u001b[43m(\u001b[49m\u001b[32;43m3\u001b[39;49m\u001b[43m,\u001b[49m\u001b[43m \u001b[49m\u001b[32;43m0\u001b[39;49m\u001b[43m,\u001b[49m\u001b[43m \u001b[49m\u001b[32;43m0\u001b[39;49m\u001b[43m)\u001b[49m\u001b[43m,\u001b[49m\u001b[43m \u001b[49m\u001b[43mdistance\u001b[49m\u001b[43m=\u001b[49m\u001b[32;43m150\u001b[39;49m\u001b[43m)\u001b[49m\u001b[43m,\u001b[49m\n\u001b[32m     30\u001b[39m \u001b[43m    \u001b[49m\u001b[43mLightSource\u001b[49m\u001b[43m(\u001b[49m\u001b[43m(\u001b[49m\u001b[32;43m0.4\u001b[39;49m\u001b[43m,\u001b[49m\u001b[43m \u001b[49m\u001b[32;43m30\u001b[39;49m\u001b[43m,\u001b[49m\u001b[43m \u001b[49m\u001b[32;43m40\u001b[39;49m\u001b[43m)\u001b[49m\u001b[43m,\u001b[49m\u001b[43m \u001b[49m\u001b[33;43m\"\u001b[39;49m\u001b[33;43mwhite\u001b[39;49m\u001b[33;43m\"\u001b[39;49m\u001b[43m)\u001b[49m\u001b[43m,\u001b[49m\n\u001b[32m     31\u001b[39m \u001b[43m    \u001b[49m\u001b[43mfrom_field\u001b[49m\u001b[43m(\u001b[49m\u001b[43mf\u001b[49m\u001b[43m,\u001b[49m\u001b[43m \u001b[49m\u001b[43mget_object\u001b[49m\u001b[43m,\u001b[49m\u001b[43m \u001b[49m\u001b[43mndim\u001b[49m\u001b[43m=\u001b[49m\u001b[32;43m1\u001b[39;49m\u001b[43m)\u001b[49m\u001b[43m,\u001b[49m\n\u001b[32m---> \u001b[39m\u001b[32m32\u001b[39m \u001b[43m)\u001b[49m\u001b[43m.\u001b[49m\u001b[43mrender\u001b[49m\u001b[43m(\u001b[49m\u001b[32;43m800\u001b[39;49m\u001b[43m,\u001b[49m\u001b[43m \u001b[49m\u001b[32;43m200\u001b[39;49m\u001b[43m)\u001b[49m\n",
      "\u001b[36mFile \u001b[39m\u001b[32m/workspaces/fdray/src/fdray/core/scene.py:106\u001b[39m, in \u001b[36mScene.render\u001b[39m\u001b[34m(self, width, height)\u001b[39m\n\u001b[32m    103\u001b[39m \u001b[38;5;250m\u001b[39m\u001b[33;03m\"\"\"Render the scene with the given image dimensions.\"\"\"\u001b[39;00m\n\u001b[32m    104\u001b[39m \u001b[38;5;28;01mfrom\u001b[39;00m\u001b[38;5;250m \u001b[39m\u001b[34;01m.\u001b[39;00m\u001b[34;01mrenderer\u001b[39;00m\u001b[38;5;250m \u001b[39m\u001b[38;5;28;01mimport\u001b[39;00m Renderer\n\u001b[32m--> \u001b[39m\u001b[32m106\u001b[39m \u001b[38;5;28;01mreturn\u001b[39;00m \u001b[43mRenderer\u001b[49m\u001b[43m(\u001b[49m\u001b[43mwidth\u001b[49m\u001b[43m,\u001b[49m\u001b[43m \u001b[49m\u001b[43mheight\u001b[49m\u001b[43m)\u001b[49m\u001b[43m.\u001b[49m\u001b[43mrender\u001b[49m\u001b[43m(\u001b[49m\u001b[38;5;28;43mself\u001b[39;49m\u001b[43m,\u001b[49m\u001b[43m \u001b[49m\u001b[43mreturn_image\u001b[49m\u001b[43m=\u001b[49m\u001b[38;5;28;43;01mTrue\u001b[39;49;00m\u001b[43m)\u001b[49m\n",
      "\u001b[36mFile \u001b[39m\u001b[32m/workspaces/fdray/src/fdray/core/renderer.py:131\u001b[39m, in \u001b[36mRenderer.render\u001b[39m\u001b[34m(self, scene, output_file, return_image)\u001b[39m\n\u001b[32m    129\u001b[39m \u001b[38;5;28;01mwith\u001b[39;00m NamedTemporaryFile(suffix=\u001b[33m\"\u001b[39m\u001b[33m.png\u001b[39m\u001b[33m\"\u001b[39m) \u001b[38;5;28;01mas\u001b[39;00m file:\n\u001b[32m    130\u001b[39m     output_file = Path(file.name)\n\u001b[32m--> \u001b[39m\u001b[32m131\u001b[39m     \u001b[38;5;28;43mself\u001b[39;49m\u001b[43m.\u001b[49m\u001b[43mrender\u001b[49m\u001b[43m(\u001b[49m\u001b[43mscene\u001b[49m\u001b[43m,\u001b[49m\u001b[43m \u001b[49m\u001b[43moutput_file\u001b[49m\u001b[43m)\u001b[49m\n\u001b[32m    132\u001b[39m     image = Image.open(output_file)\n\u001b[32m    133\u001b[39m     \u001b[38;5;28;01mreturn\u001b[39;00m image \u001b[38;5;28;01mif\u001b[39;00m return_image \u001b[38;5;28;01melse\u001b[39;00m np.array(image)\n",
      "\u001b[36mFile \u001b[39m\u001b[32m/workspaces/fdray/src/fdray/core/renderer.py:146\u001b[39m, in \u001b[36mRenderer.render\u001b[39m\u001b[34m(self, scene, output_file, return_image)\u001b[39m\n\u001b[32m    143\u001b[39m \u001b[38;5;28mself\u001b[39m.stderr = remove_progress(cp.stderr)\n\u001b[32m    145\u001b[39m \u001b[38;5;28;01mif\u001b[39;00m cp.returncode != \u001b[32m0\u001b[39m:\n\u001b[32m--> \u001b[39m\u001b[32m146\u001b[39m     \u001b[38;5;28;01mraise\u001b[39;00m RenderError(\u001b[38;5;28mself\u001b[39m.stderr)\n\u001b[32m    148\u001b[39m \u001b[38;5;28;01mreturn\u001b[39;00m \u001b[38;5;28;01mNone\u001b[39;00m\n",
      "\u001b[31mRenderError\u001b[39m: POV-Ray rendering failed:\n==== [Parsing...] ==========================================================\nFile '/tmp/tmp9yebml5m/scene.pov' line 5: Parse Error: No matching } in 'merge',\n union found instead\nFatal error in parser: Cannot parse input.\nRender failed\n"
     ]
    }
   ],
   "source": [
    "from math import degrees\n",
    "\n",
    "axes = Union(\n",
    "    Cylinder((0, 0, 0), (0.7, 0, 0), 0.02, Color(\"red\")),\n",
    "    Cylinder((0, 0, 0), (0, 0.7, 0), 0.02, Color(\"green\")),\n",
    "    Cylinder((0, 0, 0), (0, 0, 0.7), 0.02, Color(\"blue\")),\n",
    ")\n",
    "\n",
    "\n",
    "def get_object(x):\n",
    "    phi, theta = Vector(x).to_spherical()\n",
    "\n",
    "    h = Cone((-0.1, 0, 0), 0.2, (0.6, 0, 0), 0.02)\n",
    "    t = Cylinder((-0.3, 0, 0), (0, 0, 0), 0.1)\n",
    "    c = h | t\n",
    "\n",
    "    c = (\n",
    "        c.pigment(Color(\"yellow\", alpha=0.5))\n",
    "        .finish(specular=0.3)\n",
    "        .rotate(0, -degrees(theta), degrees(phi))\n",
    "    ) + axes\n",
    "    print(c)\n",
    "    return c\n",
    "\n",
    "\n",
    "f = [[1, 0, 0], [0, 1, 0], [0, -1, 0], [0, 0, 1], [0, 0, -1], [1, 1, 1], [1, -1, -1]]\n",
    "\n",
    "Scene(\n",
    "    Camera(-70, 10, view_scale=1.7, look_at=(3, 0, 0), distance=150),\n",
    "    LightSource((0.4, 30, 40), \"white\"),\n",
    "    from_field(f, get_object, ndim=1),\n",
    ").render(800, 200)"
   ]
  },
  {
   "cell_type": "code",
   "execution_count": null,
   "metadata": {},
   "outputs": [],
   "source": []
  }
 ],
 "metadata": {
  "kernelspec": {
   "display_name": ".venv",
   "language": "python",
   "name": "python3"
  },
  "language_info": {
   "codemirror_mode": {
    "name": "ipython",
    "version": 3
   },
   "file_extension": ".py",
   "mimetype": "text/x-python",
   "name": "python",
   "nbconvert_exporter": "python",
   "pygments_lexer": "ipython3",
   "version": "3.13.2"
  }
 },
 "nbformat": 4,
 "nbformat_minor": 2
}
