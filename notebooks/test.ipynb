{
 "cells": [
  {
   "cell_type": "code",
   "execution_count": 1,
   "metadata": {},
   "outputs": [],
   "source": [
    "from PIL import Image\n",
    "\n",
    "from fdray import (\n",
    "    Camera,\n",
    "    Color,\n",
    "    Cuboid,\n",
    "    LightSource,\n",
    "    Renderer,\n",
    "    Scene,\n",
    "    Sphere,\n",
    ")\n"
   ]
  },
  {
   "cell_type": "code",
   "execution_count": 3,
   "metadata": {},
   "outputs": [
    {
     "ename": "RuntimeError",
     "evalue": "b\"povray: cannot open the user configuration file /home/vscode/.povray/3.7/povray.conf: No such file or directory\\nPersistence of Vision(tm) Ray Tracer Version 3.7.0.10.unofficial (g++ @\\n x86_64-pc-linux-gnu)\\nThis is an unofficial version compiled by:\\n William Grant <wgrant@ubuntu.com> for Debian <www.debian.org>\\n The POV-Ray Team is not responsible for supporting this version.\\n\\nPOV-Ray is based on DKBTrace 2.12 by David K. Buck & Aaron A. Collins\\nCopyright 1991-2013 Persistence of Vision Raytracer Pty. Ltd.\\n\\nPrimary POV-Ray 3.7 Architects/Developers: (Alphabetically)\\n  Chris Cason         Thorsten Froehlich  Christoph Lipka   \\n\\nWith Assistance From: (Alphabetically)\\n  Ton van den Broek   Nicolas Calimet     Jerome Grimbert     James Holsenback  \\n  Christoph Hormann   Nathan Kopp         Juha Nieminen     \\n\\nPast Contributors: (Alphabetically)\\n  Steve Anger         Eric Barish         Dieter Bayer        David K. Buck     \\n  Nicolas Calimet     Chris Cason         Aaron A. Collins    Chris Dailey      \\n  Steve Demlow        Andreas Dilger      Alexander Enzmann   Dan Farmer        \\n  Thorsten Froehlich  Mark Gordon         James Holsenback    Christoph Hormann \\n  Mike Hough          Chris Huff          Kari Kivisalo       Nathan Kopp       \\n  Lutz Kretzschmar    Christoph Lipka     Jochen Lippert      Pascal Massimino  \\n  Jim McElhiney       Douglas Muir        Juha Nieminen       Ron Parker        \\n  Bill Pulver         Eduard Schwan       Wlodzimierz Skiba   Robert Skinner    \\n  Yvo Smellenbergh    Zsolt Szalavari     Scott Taylor        Massimo Valentini \\n  Timothy Wegner      Drew Wells          Chris Young       \\n\\nOther contributors are listed in the documentation.\\n\\nSupport libraries used by POV-Ray:\\n  ZLib 1.3, Copyright 1995-2012 Jean-loup Gailly and Mark Adler\\n  LibPNG 1.6.43, Copyright 1998-2012 Glenn Randers-Pehrson\\n  LibJPEG , Copyright 1991-2013 Thomas G. Lane, Guido Vollbeding\\n  LibTIFF 4.5.1, Copyright 1988-1997 Sam Leffler, 1991-1997 SGI\\n  Boost 1.83, http://www.boost.org/\\n  OpenEXR 3.1.5 and Imath 3.1.9, Copyright (c) Contributors to the OpenEXR\\n Project.\\n\\nParser Options\\n  Input file: /tmp/tmpdcak9ce9/scene.pov\\n  Remove bounds........On \\n  Split unions.........Off\\n  Library paths:\\n    /usr/share/povray-3.7\\n    /usr/share/povray-3.7/ini\\n    /usr/share/povray-3.7/include\\n  Clock value:    0.000  (Animation off)\\nImage Output Options\\n  Image resolution.....600 by 400 (rows 1 to 400, columns 1 to 600).\\n  Output file........../tmp/tmpfwp6j483.png, 32 bpp with alpha PNG\\n  Dithering............Off\\n  Graphic display......Off\\n  Mosaic preview.......Off\\n  Continued trace......Off\\nInformation Output Options\\n  All Streams to console..........On \\n  Debug Stream to console.........On \\n  Fatal Stream to console.........On \\n  Render Stream to console........On \\n  Statistics Stream to console....On \\n  Warning Stream to console.......On \\n==== [Parsing...] ==========================================================\\nFile '/tmp/tmpdcak9ce9/scene.pov' line 3: Parse Error: Expected 'perspective\\n camera modifier', orthographic found instead\\nFatal error in parser: Cannot parse input.\\nRender failed\\n\\n\"",
     "output_type": "error",
     "traceback": [
      "\u001b[31m---------------------------------------------------------------------------\u001b[39m",
      "\u001b[31mRuntimeError\u001b[39m                              Traceback (most recent call last)",
      "\u001b[36mCell\u001b[39m\u001b[36m \u001b[39m\u001b[32mIn[3]\u001b[39m\u001b[32m, line 7\u001b[39m\n\u001b[32m      1\u001b[39m scene = Scene(\n\u001b[32m      2\u001b[39m     Camera((\u001b[32m1\u001b[39m, \u001b[32m2\u001b[39m, \u001b[32m3\u001b[39m)),\n\u001b[32m      3\u001b[39m     LightSource((\u001b[32m1\u001b[39m, \u001b[32m2\u001b[39m, -\u001b[32m3\u001b[39m), \u001b[33m\"\u001b[39m\u001b[33mwhite\u001b[39m\u001b[33m\"\u001b[39m, shadowless=\u001b[38;5;28;01mTrue\u001b[39;00m),\n\u001b[32m      4\u001b[39m     Cuboid((\u001b[32m0\u001b[39m, \u001b[32m0\u001b[39m, \u001b[32m0\u001b[39m), (\u001b[32m1\u001b[39m, \u001b[32m2\u001b[39m, \u001b[32m3\u001b[39m), Color(\u001b[33m\"\u001b[39m\u001b[33mwhite\u001b[39m\u001b[33m\"\u001b[39m)),\n\u001b[32m      5\u001b[39m )\n\u001b[32m      6\u001b[39m renderer = Renderer(width=\u001b[32m600\u001b[39m, height=\u001b[32m400\u001b[39m)\n\u001b[32m----> \u001b[39m\u001b[32m7\u001b[39m a = \u001b[43mrenderer\u001b[49m\u001b[43m.\u001b[49m\u001b[43mrender\u001b[49m\u001b[43m(\u001b[49m\u001b[43mscene\u001b[49m\u001b[43m)\u001b[49m\n\u001b[32m      8\u001b[39m Image.fromarray(a)\n",
      "\u001b[36mFile \u001b[39m\u001b[32m/workspaces/fdray/src/fdray/renderer.py:113\u001b[39m, in \u001b[36mRenderer.render\u001b[39m\u001b[34m(self, scene, output_file)\u001b[39m\n\u001b[32m    110\u001b[39m cp = \u001b[38;5;28mself\u001b[39m.render(scene, output_file)\n\u001b[32m    112\u001b[39m \u001b[38;5;28;01mif\u001b[39;00m cp.returncode != \u001b[32m0\u001b[39m:\n\u001b[32m--> \u001b[39m\u001b[32m113\u001b[39m     \u001b[38;5;28;01mraise\u001b[39;00m \u001b[38;5;167;01mRuntimeError\u001b[39;00m(cp.stderr)\n\u001b[32m    115\u001b[39m \u001b[38;5;28;01mreturn\u001b[39;00m np.array(Image.open(output_file))\n",
      "\u001b[31mRuntimeError\u001b[39m: b\"povray: cannot open the user configuration file /home/vscode/.povray/3.7/povray.conf: No such file or directory\\nPersistence of Vision(tm) Ray Tracer Version 3.7.0.10.unofficial (g++ @\\n x86_64-pc-linux-gnu)\\nThis is an unofficial version compiled by:\\n William Grant <wgrant@ubuntu.com> for Debian <www.debian.org>\\n The POV-Ray Team is not responsible for supporting this version.\\n\\nPOV-Ray is based on DKBTrace 2.12 by David K. Buck & Aaron A. Collins\\nCopyright 1991-2013 Persistence of Vision Raytracer Pty. Ltd.\\n\\nPrimary POV-Ray 3.7 Architects/Developers: (Alphabetically)\\n  Chris Cason         Thorsten Froehlich  Christoph Lipka   \\n\\nWith Assistance From: (Alphabetically)\\n  Ton van den Broek   Nicolas Calimet     Jerome Grimbert     James Holsenback  \\n  Christoph Hormann   Nathan Kopp         Juha Nieminen     \\n\\nPast Contributors: (Alphabetically)\\n  Steve Anger         Eric Barish         Dieter Bayer        David K. Buck     \\n  Nicolas Calimet     Chris Cason         Aaron A. Collins    Chris Dailey      \\n  Steve Demlow        Andreas Dilger      Alexander Enzmann   Dan Farmer        \\n  Thorsten Froehlich  Mark Gordon         James Holsenback    Christoph Hormann \\n  Mike Hough          Chris Huff          Kari Kivisalo       Nathan Kopp       \\n  Lutz Kretzschmar    Christoph Lipka     Jochen Lippert      Pascal Massimino  \\n  Jim McElhiney       Douglas Muir        Juha Nieminen       Ron Parker        \\n  Bill Pulver         Eduard Schwan       Wlodzimierz Skiba   Robert Skinner    \\n  Yvo Smellenbergh    Zsolt Szalavari     Scott Taylor        Massimo Valentini \\n  Timothy Wegner      Drew Wells          Chris Young       \\n\\nOther contributors are listed in the documentation.\\n\\nSupport libraries used by POV-Ray:\\n  ZLib 1.3, Copyright 1995-2012 Jean-loup Gailly and Mark Adler\\n  LibPNG 1.6.43, Copyright 1998-2012 Glenn Randers-Pehrson\\n  LibJPEG , Copyright 1991-2013 Thomas G. Lane, Guido Vollbeding\\n  LibTIFF 4.5.1, Copyright 1988-1997 Sam Leffler, 1991-1997 SGI\\n  Boost 1.83, http://www.boost.org/\\n  OpenEXR 3.1.5 and Imath 3.1.9, Copyright (c) Contributors to the OpenEXR\\n Project.\\n\\nParser Options\\n  Input file: /tmp/tmpdcak9ce9/scene.pov\\n  Remove bounds........On \\n  Split unions.........Off\\n  Library paths:\\n    /usr/share/povray-3.7\\n    /usr/share/povray-3.7/ini\\n    /usr/share/povray-3.7/include\\n  Clock value:    0.000  (Animation off)\\nImage Output Options\\n  Image resolution.....600 by 400 (rows 1 to 400, columns 1 to 600).\\n  Output file........../tmp/tmpfwp6j483.png, 32 bpp with alpha PNG\\n  Dithering............Off\\n  Graphic display......Off\\n  Mosaic preview.......Off\\n  Continued trace......Off\\nInformation Output Options\\n  All Streams to console..........On \\n  Debug Stream to console.........On \\n  Fatal Stream to console.........On \\n  Render Stream to console........On \\n  Statistics Stream to console....On \\n  Warning Stream to console.......On \\n==== [Parsing...] ==========================================================\\nFile '/tmp/tmpdcak9ce9/scene.pov' line 3: Parse Error: Expected 'perspective\\n camera modifier', orthographic found instead\\nFatal error in parser: Cannot parse input.\\nRender failed\\n\\n\""
     ]
    }
   ],
   "source": [
    "scene = Scene(\n",
    "    Camera((1, 2, 3)),\n",
    "    LightSource((1, 2, -3), \"white\", shadowless=True),\n",
    "    Cuboid((0, 0, 0), (1, 2, 3), Color(\"white\")),\n",
    ")\n",
    "renderer = Renderer(width=600, height=400)\n",
    "a = renderer.render(scene)\n",
    "Image.fromarray(a)"
   ]
  },
  {
   "cell_type": "markdown",
   "metadata": {},
   "source": []
  },
  {
   "cell_type": "code",
   "execution_count": 5,
   "metadata": {},
   "outputs": [
    {
     "name": "stdout",
     "output_type": "stream",
     "text": [
      "#version 3.7;\n",
      "global_settings { assumed_gamma 1 }\n",
      "camera { location <1, 2, 3> look_at <0, 0, 0> up <0, 1, 0> right <1.5, 0, 0> orthographic }\n",
      "light_source { <1, 2, -3> color rgb <1, 1, 1> shadowless }\n",
      "box {\n",
      "  <-0.5, -1.0, -1.5>, <0.5, 1.0, 1.5>\n",
      "  pigment { rgb <1, 1, 1> }\n",
      "}\n"
     ]
    }
   ],
   "source": [
    "print(str(scene))"
   ]
  },
  {
   "cell_type": "code",
   "execution_count": null,
   "metadata": {},
   "outputs": [],
   "source": []
  }
 ],
 "metadata": {
  "kernelspec": {
   "display_name": ".venv",
   "language": "python",
   "name": "python3"
  },
  "language_info": {
   "codemirror_mode": {
    "name": "ipython",
    "version": 3
   },
   "file_extension": ".py",
   "mimetype": "text/x-python",
   "name": "python",
   "nbconvert_exporter": "python",
   "pygments_lexer": "ipython3",
   "version": "3.13.2"
  }
 },
 "nbformat": 4,
 "nbformat_minor": 2
}
