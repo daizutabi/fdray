{
 "cells": [
  {
   "cell_type": "code",
   "execution_count": 1,
   "metadata": {},
   "outputs": [],
   "source": [
    "from fdray import (\n",
    "    Background,\n",
    "    Sphere,\n",
    "    Color,\n",
    "    Camera,\n",
    "    LightSource,\n",
    "    Spotlight,\n",
    "    Scene,\n",
    "    Renderer,\n",
    ")\n",
    "from PIL import Image\n"
   ]
  },
  {
   "cell_type": "code",
   "execution_count": 6,
   "metadata": {},
   "outputs": [
    {
     "data": {
      "image/png": "[encoded data removed]",
      "text/plain": [
       "<PIL.Image.Image image mode=RGBA size=120x120>"
      ]
     },
     "execution_count": 6,
     "metadata": {},
     "output_type": "execute_result"
    }
   ],
   "source": [
    "scene = Scene(\n",
    "    Background(\"white\", 0.5),\n",
    "    Camera((1, 2, 3)),\n",
    "    LightSource((1, 2, -3), \"white\", shadowless=True),\n",
    "    Sphere((0, 0, 0), 1, Color(\"white\")),\n",
    ")\n",
    "renderer = Renderer(width=120, height=120)\n",
    "a = renderer.render(scene)\n",
    "Image.fromarray(a)"
   ]
  },
  {
   "cell_type": "code",
   "execution_count": 7,
   "metadata": {},
   "outputs": [
    {
     "data": {
      "text/plain": [
       "1.333"
      ]
     },
     "execution_count": 7,
     "metadata": {},
     "output_type": "execute_result"
    }
   ],
   "source": [
    "float(f\"{320 / 240:.4g}\")"
   ]
  },
  {
   "cell_type": "code",
   "execution_count": null,
   "metadata": {},
   "outputs": [],
   "source": []
  }
 ],
 "metadata": {
  "kernelspec": {
   "display_name": ".venv",
   "language": "python",
   "name": "python3"
  },
  "language_info": {
   "codemirror_mode": {
    "name": "ipython",
    "version": 3
   },
   "file_extension": ".py",
   "mimetype": "text/x-python",
   "name": "python",
   "nbconvert_exporter": "python",
   "pygments_lexer": "ipython3",
   "version": "3.13.2"
  }
 },
 "nbformat": 4,
 "nbformat_minor": 2
}
