{
 "cells": [
  {
   "cell_type": "code",
   "execution_count": 1,
   "metadata": {},
   "outputs": [],
   "source": [
    "from PIL import Image\n",
    "\n",
    "from fdray import (\n",
    "    Camera,\n",
    "    Color,\n",
    "    Cuboid,\n",
    "    LightSource,\n",
    "    Renderer,\n",
    "    Scene,\n",
    "    Sphere,\n",
    ")\n"
   ]
  },
  {
   "cell_type": "code",
   "execution_count": 21,
   "metadata": {},
   "outputs": [
    {
     "data": {
      "image/png": "[encoded data removed]",
      "text/plain": [
       "<PIL.Image.Image image mode=RGBA size=300x200>"
      ]
     },
     "execution_count": 21,
     "metadata": {},
     "output_type": "execute_result"
    }
   ],
   "source": [
    "scene = Scene(\n",
    "    Camera((3, 1, 3), angle=40),\n",
    "    LightSource((1, 2, -3), \"white\", shadowless=True),\n",
    "    Cuboid((0, 0, 0), (1, 2, 3), Color(\"white\")),\n",
    "    Sphere((0, 0, 0), 1, Color(\"white\")),\n",
    ")\n",
    "renderer = Renderer(width=300, height=200)\n",
    "a = renderer.render(scene)\n",
    "Image.fromarray(a)"
   ]
  },
  {
   "cell_type": "markdown",
   "metadata": {},
   "source": []
  },
  {
   "cell_type": "code",
   "execution_count": 22,
   "metadata": {},
   "outputs": [
    {
     "name": "stdout",
     "output_type": "stream",
     "text": [
      "#version 3.7;\n",
      "global_settings { assumed_gamma 1 }\n",
      "camera { orthographic location <3, 1, 3> look_at <0, 0, 0> angle 40 up <0, 3.4881, 0> right <5.2322, 0, 0> }\n",
      "light_source { <1, 2, -3> color rgb <1, 1, 1> shadowless }\n",
      "box {\n",
      "  <-0.5, -1.0, -1.5>, <0.5, 1.0, 1.5>\n",
      "  pigment { rgb <1, 1, 1> }\n",
      "}\n",
      "sphere {\n",
      "  <0, 0, 0>, 1\n",
      "  pigment { rgb <1, 1, 1> }\n",
      "}\n"
     ]
    }
   ],
   "source": [
    "print(str(scene))"
   ]
  },
  {
   "cell_type": "code",
   "execution_count": null,
   "metadata": {},
   "outputs": [],
   "source": []
  }
 ],
 "metadata": {
  "kernelspec": {
   "display_name": ".venv",
   "language": "python",
   "name": "python3"
  },
  "language_info": {
   "codemirror_mode": {
    "name": "ipython",
    "version": 3
   },
   "file_extension": ".py",
   "mimetype": "text/x-python",
   "name": "python",
   "nbconvert_exporter": "python",
   "pygments_lexer": "ipython3",
   "version": "3.13.2"
  }
 },
 "nbformat": 4,
 "nbformat_minor": 2
}
