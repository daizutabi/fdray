{
 "cells": [
  {
   "cell_type": "code",
   "execution_count": 1,
   "metadata": {},
   "outputs": [],
   "source": [
    "from fdray import Background, Sphere, Color, Camera, LightSource, Spotlight, Scene\n"
   ]
  },
  {
   "cell_type": "code",
   "execution_count": 2,
   "metadata": {},
   "outputs": [
    {
     "name": "stdout",
     "output_type": "stream",
     "text": [
      "#version 3.7;\n",
      "global_settings { assumed_gamma 1 }\n",
      "background { rgb <1, 1, 1> }\n",
      "camera { location <1, 2, 3> look_at <0, 0, 0> }\n",
      "light_source { <1, 2, 3> color rgb <1, 0, 0> shadowless }\n",
      "sphere {\n",
      "  <0, 0, 0>, 1\n",
      "  pigment { rgb <1, 0, 0> }\n",
      "}\n"
     ]
    }
   ],
   "source": [
    "background = Background(\"white\")\n",
    "camera = Camera((1, 2, 3))\n",
    "light = LightSource((1, 2, 3), \"red\", shadowless=True)\n",
    "sphere = Sphere((0, 0, 0), 1, Color(\"red\"))\n",
    "scene = Scene(background, camera, light, sphere)\n",
    "print(str(scene))"
   ]
  },
  {
   "cell_type": "code",
   "execution_count": 8,
   "metadata": {},
   "outputs": [
    {
     "data": {
      "text/plain": [
       "False"
      ]
     },
     "execution_count": 8,
     "metadata": {},
     "output_type": "execute_result"
    }
   ],
   "source": [
    "import inspect\n",
    "\n",
    "from dataclasses import fields, MISSING\n",
    "\n",
    "fields(light)[0].default == MISSING\n"
   ]
  },
  {
   "cell_type": "code",
   "execution_count": null,
   "metadata": {},
   "outputs": [],
   "source": []
  }
 ],
 "metadata": {
  "kernelspec": {
   "display_name": ".venv",
   "language": "python",
   "name": "python3"
  },
  "language_info": {
   "codemirror_mode": {
    "name": "ipython",
    "version": 3
   },
   "file_extension": ".py",
   "mimetype": "text/x-python",
   "name": "python",
   "nbconvert_exporter": "python",
   "pygments_lexer": "ipython3",
   "version": "3.13.2"
  }
 },
 "nbformat": 4,
 "nbformat_minor": 2
}
