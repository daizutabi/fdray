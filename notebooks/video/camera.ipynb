{
 "cells": [
  {
   "cell_type": "code",
   "execution_count": 57,
   "metadata": {},
   "outputs": [],
   "source": [
    "import numpy as np\n",
    "from moviepy import VideoClip\n",
    "from PIL import ImageDraw, ImageFont\n",
    "\n",
    "from fdray import *\n",
    "\n",
    "font_path = Text.set_font(\"DejaVuSans\")"
   ]
  },
  {
   "cell_type": "code",
   "execution_count": 58,
   "metadata": {},
   "outputs": [],
   "source": [
    "attrs = [Finish(phong=0.5, brilliance=0.1, specular=0.2)]\n",
    "objects = [\n",
    "    Background(Color(\"gray\")),\n",
    "    LightSource((0.4, 90, 40), Color(\"white\")),\n",
    "    Cylinder(0, (1, 0, 0), 0.1, Color(\"red\", 0.8), *attrs),\n",
    "    Cylinder(0, (0, 1, 0), 0.1, Color(\"green\", 0.8), *attrs),\n",
    "    Cylinder(0, (0, 0, 1), 0.1, Color(\"blue\", 0.8), *attrs),\n",
    "    Text(\"x\", 0.1, Color(\"red\", 0.9), *attrs)\n",
    "    .scale(0.4)\n",
    "    .align(0, 0)\n",
    "    .translate(1.1, -0.1, -0.1),\n",
    "    Text(\"y\", 0.1, Color(\"green\", 0.9), *attrs)\n",
    "    .scale(0.4)\n",
    "    .align(90, 0)\n",
    "    .translate(0.1, 1.1, -0.1),\n",
    "    Text(\"z\", 0.1, Color(\"blue\", 0.9), *attrs)\n",
    "    .scale(0.4)\n",
    "    .align(0, 90)\n",
    "    .translate(0.1, -0.1, 1.1),\n",
    "]"
   ]
  },
  {
   "cell_type": "code",
   "execution_count": 59,
   "metadata": {},
   "outputs": [],
   "source": [
    "def scene_location(longitude, latitude):\n",
    "    img = Scene(\n",
    "        Camera(longitude=longitude, latitude=latitude, view_scale=1.35),\n",
    "        *objects,\n",
    "    ).render(300, 300, output_alpha=False, antialias=0.001)\n",
    "    draw = ImageDraw.Draw(img)\n",
    "    font = ImageFont.truetype(font_path, 18)\n",
    "    longitude = int(longitude)\n",
    "    latitude = int(latitude)\n",
    "    t = f\"{longitude=}, {latitude=}\"\n",
    "    draw.text((3, 3), t, font=font, fill=0)\n",
    "    return img"
   ]
  },
  {
   "cell_type": "code",
   "execution_count": null,
   "metadata": {},
   "outputs": [],
   "source": [
    "scene_location(30, 40)"
   ]
  },
  {
   "cell_type": "code",
   "execution_count": null,
   "metadata": {},
   "outputs": [],
   "source": [
    "duration = 10\n",
    "fps = 10\n",
    "\n",
    "\n",
    "def frame(t):\n",
    "    image = scene_location(360 * t / (duration - 1 / fps), 30)\n",
    "    return np.array(image)\n",
    "\n",
    "\n",
    "video = VideoClip(frame, duration=duration)\n",
    "video.write_videofile(\"camera-longitude.mp4\", fps=fps)"
   ]
  },
  {
   "cell_type": "code",
   "execution_count": null,
   "metadata": {},
   "outputs": [],
   "source": [
    "duration = 10\n",
    "fps = 10\n",
    "\n",
    "\n",
    "def frame(t):\n",
    "    image = scene_location(30, 360 * t / (duration - 1 / fps))\n",
    "    return np.array(image)\n",
    "\n",
    "\n",
    "video = VideoClip(frame, duration=duration)\n",
    "video.write_videofile(\"camera-latitude.mp4\", fps=fps)"
   ]
  },
  {
   "cell_type": "code",
   "execution_count": 63,
   "metadata": {},
   "outputs": [],
   "source": [
    "def scene_view_scale(view_scale):\n",
    "    img = Scene(\n",
    "        Camera(35, 40, view_scale=view_scale),\n",
    "        *objects,\n",
    "    ).render(300, 300, output_alpha=False, antialias=0.001)\n",
    "    draw = ImageDraw.Draw(img)\n",
    "    font = ImageFont.truetype(font_path, 18)\n",
    "    t = f\"{view_scale=:.2f}\"\n",
    "    draw.text((3, 3), t, font=font, fill=0)\n",
    "    return img"
   ]
  },
  {
   "cell_type": "code",
   "execution_count": null,
   "metadata": {},
   "outputs": [],
   "source": [
    "scene_view_scale(1.35)"
   ]
  },
  {
   "cell_type": "code",
   "execution_count": null,
   "metadata": {},
   "outputs": [],
   "source": [
    "duration = 10\n",
    "fps = 10\n",
    "\n",
    "\n",
    "def frame(t):\n",
    "    image = scene_view_scale(2.9 * t / (duration - 1 / fps) + 0.1)\n",
    "    return np.array(image)\n",
    "\n",
    "\n",
    "video = VideoClip(frame, duration=duration)\n",
    "video.write_videofile(\"camera-view-scale.mp4\", fps=fps)"
   ]
  },
  {
   "cell_type": "code",
   "execution_count": 66,
   "metadata": {},
   "outputs": [],
   "source": [
    "def scene_distance(distance):\n",
    "    img = Scene(\n",
    "        Camera(35, 40, view_scale=1.35, distance=distance),\n",
    "        *objects,\n",
    "    ).render(300, 300, output_alpha=False, antialias=0.001)\n",
    "    draw = ImageDraw.Draw(img)\n",
    "    font = ImageFont.truetype(font_path, 18)\n",
    "    t = f\"{distance=:.1f}\"\n",
    "    draw.text((3, 3), t, font=font, fill=0)\n",
    "    return img"
   ]
  },
  {
   "cell_type": "code",
   "execution_count": null,
   "metadata": {},
   "outputs": [],
   "source": [
    "scene_distance(10)"
   ]
  },
  {
   "cell_type": "code",
   "execution_count": null,
   "metadata": {},
   "outputs": [],
   "source": [
    "duration = 10\n",
    "fps = 10\n",
    "\n",
    "\n",
    "def frame(t):\n",
    "    image = scene_distance((10 - 0.5) * t / (duration - 1 / fps) + 0.5)\n",
    "    return np.array(image)\n",
    "\n",
    "\n",
    "video = VideoClip(frame, duration=duration)\n",
    "video.write_videofile(\"camera-distance.mp4\", fps=fps)"
   ]
  },
  {
   "cell_type": "code",
   "execution_count": 69,
   "metadata": {},
   "outputs": [],
   "source": [
    "def scene_tilt(tilt):\n",
    "    img = Scene(\n",
    "        Camera(35, 40, view_scale=1.35, tilt=tilt),\n",
    "        *objects,\n",
    "    ).render(300, 300, output_alpha=False, antialias=0.001)\n",
    "    draw = ImageDraw.Draw(img)\n",
    "    font = ImageFont.truetype(font_path, 18)\n",
    "    tilt = int(tilt)\n",
    "    t = f\"{tilt=}\"\n",
    "    draw.text((3, 3), t, font=font, fill=0)\n",
    "    return img"
   ]
  },
  {
   "cell_type": "code",
   "execution_count": null,
   "metadata": {},
   "outputs": [],
   "source": [
    "scene_tilt(360)"
   ]
  },
  {
   "cell_type": "code",
   "execution_count": null,
   "metadata": {},
   "outputs": [],
   "source": [
    "duration = 10\n",
    "fps = 10\n",
    "\n",
    "\n",
    "def frame(t):\n",
    "    image = scene_tilt(360 * t / (duration - 1 / fps))\n",
    "    return np.array(image)\n",
    "\n",
    "\n",
    "video = VideoClip(frame, duration=duration)\n",
    "video.write_videofile(\"camera-tilt.mp4\", fps=fps)"
   ]
  },
  {
   "cell_type": "code",
   "execution_count": 72,
   "metadata": {},
   "outputs": [],
   "source": [
    "def scene_look_at(look_at):\n",
    "    img = Scene(\n",
    "        Camera(35, 40, view_scale=1.35, look_at=(look_at, 0, 0)),\n",
    "        *objects,\n",
    "    ).render(300, 300, output_alpha=False, antialias=0.001)\n",
    "    draw = ImageDraw.Draw(img)\n",
    "    font = ImageFont.truetype(font_path, 18)\n",
    "    t = f\"look_at=({look_at:.2f}, 0 ,0)\"\n",
    "    draw.text((3, 3), t, font=font, fill=0)\n",
    "    return img"
   ]
  },
  {
   "cell_type": "code",
   "execution_count": null,
   "metadata": {},
   "outputs": [],
   "source": [
    "scene_look_at(1)"
   ]
  },
  {
   "cell_type": "code",
   "execution_count": null,
   "metadata": {},
   "outputs": [],
   "source": [
    "duration = 10\n",
    "fps = 10\n",
    "\n",
    "\n",
    "def frame(t):\n",
    "    image = scene_look_at(2 * t / (duration - 1 / fps) - 1)\n",
    "    return np.array(image)\n",
    "\n",
    "\n",
    "video = VideoClip(frame, duration=duration)\n",
    "video.write_videofile(\"camera-look-at.mp4\", fps=fps)"
   ]
  },
  {
   "cell_type": "code",
   "execution_count": 148,
   "metadata": {},
   "outputs": [],
   "source": [
    "def scene_orbital(forward, angle, rotation):\n",
    "    camera = Camera(35, 40, view_scale=1.35)\n",
    "    p1 = camera.orbital_location(forward, angle, rotation)\n",
    "    img = Scene(\n",
    "        camera,\n",
    "        *objects,\n",
    "        LightSource((forward, angle, rotation), Color(\"white\")),\n",
    "        Sphere(p1, 0.3, Color(\"gold\", 0.5), *attrs),\n",
    "    ).render(300, 300, output_alpha=False, antialias=0.001)\n",
    "    draw = ImageDraw.Draw(img)\n",
    "    font = ImageFont.truetype(font_path, 18)\n",
    "    rotation = int(rotation)\n",
    "    t = f\"{forward=:.2f}\\n{angle=:.1f}\\n{rotation=}\"\n",
    "    draw.text((3, 3), t, font=font, fill=0)\n",
    "    return img"
   ]
  },
  {
   "cell_type": "code",
   "execution_count": null,
   "metadata": {},
   "outputs": [],
   "source": [
    "scene_orbital(0.9, 4, 90)"
   ]
  },
  {
   "cell_type": "code",
   "execution_count": null,
   "metadata": {},
   "outputs": [],
   "source": [
    "duration = 10\n",
    "fps = 10\n",
    "\n",
    "\n",
    "def frame(t):\n",
    "    image = scene_orbital((1.5 - 0.1) * t / (duration - 1 / fps) + 0.1, 0, 0)\n",
    "    return np.array(image)\n",
    "\n",
    "\n",
    "video = VideoClip(frame, duration=duration)\n",
    "video.write_videofile(\"camera-orbital-forward.mp4\", fps=fps)"
   ]
  },
  {
   "cell_type": "code",
   "execution_count": null,
   "metadata": {},
   "outputs": [],
   "source": [
    "duration = 10\n",
    "fps = 10\n",
    "\n",
    "\n",
    "def frame(t):\n",
    "    image = scene_orbital(1, 8 * t / (duration - 1 / fps) - 4, 0)\n",
    "    return np.array(image)\n",
    "\n",
    "\n",
    "video = VideoClip(frame, duration=duration)\n",
    "video.write_videofile(\"camera-orbital-angle.mp4\", fps=fps)"
   ]
  },
  {
   "cell_type": "code",
   "execution_count": null,
   "metadata": {},
   "outputs": [],
   "source": [
    "duration = 10\n",
    "fps = 10\n",
    "\n",
    "\n",
    "def frame(t):\n",
    "    image = scene_orbital(1, 4, 360 * t / (duration - 1 / fps))\n",
    "    return np.array(image)\n",
    "\n",
    "\n",
    "video = VideoClip(frame, duration=duration)\n",
    "video.write_videofile(\"camera-orbital-rotation.mp4\", fps=fps)"
   ]
  }
 ],
 "metadata": {
  "kernelspec": {
   "display_name": ".venv",
   "language": "python",
   "name": "python3"
  },
  "language_info": {
   "codemirror_mode": {
    "name": "ipython",
    "version": 3
   },
   "file_extension": ".py",
   "mimetype": "text/x-python",
   "name": "python",
   "nbconvert_exporter": "python",
   "pygments_lexer": "ipython3",
   "version": "3.13.3"
  }
 },
 "nbformat": 4,
 "nbformat_minor": 2
}
