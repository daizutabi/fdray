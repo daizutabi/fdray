{
 "cells": [
  {
   "cell_type": "code",
   "execution_count": 1,
   "metadata": {},
   "outputs": [
    {
     "data": {
      "image/png": "[encoded data removed]",
      "text/plain": [
       "<PIL.Image.Image image mode=RGBA size=300x300>"
      ]
     },
     "execution_count": 1,
     "metadata": {},
     "output_type": "execute_result"
    }
   ],
   "source": [
    "from PIL import Image\n",
    "\n",
    "from fdray import (\n",
    "    Background,\n",
    "    Camera,\n",
    "    Color,\n",
    "    Cylinder,\n",
    "    LightSource,\n",
    "    Renderer,\n",
    "    Scene,\n",
    "    Include,\n",
    ")\n",
    "\n",
    "camera = Camera(30, 30, view_scale=1.2)\n",
    "scene = Scene(\n",
    "    Include(\"colors.inc\"),\n",
    "    camera,\n",
    "    Background(\"white\"),\n",
    "    LightSource(camera.location, \"white\"),\n",
    "    Cylinder((0, 0, 0), (1, 0, 0), 0.1, Color(\"Red\", transmit=0.5)),\n",
    "    Cylinder((0, 0, 0), (0, 1, 0), 0.1, Color(\"green\", filter=0.5)),\n",
    "    Cylinder((0, 0, 0), (0, 0, 1), 0.1, Color(\"blue\", transmit=0.5, filter=0.5)),\n",
    ")\n",
    "renderer = Renderer(width=300, height=300)\n",
    "a = renderer.render(scene)\n",
    "Image.fromarray(a)\n"
   ]
  },
  {
   "cell_type": "markdown",
   "metadata": {},
   "source": []
  },
  {
   "cell_type": "code",
   "execution_count": 2,
   "metadata": {},
   "outputs": [
    {
     "name": "stdout",
     "output_type": "stream",
     "text": [
      "#version 3.7;\n",
      "global_settings { assumed_gamma 1 }\n",
      "#include \"colors.inc\"\n",
      "camera { location <9, 5.1962, 6> look_at <0, 0, 0> direction <9, 5.1962, 6> right <1.3856, -2.4, -0> up <-0.9, -0.51962, 1.8> sky <-0.43301, -0.25, 0.86603> }\n",
      "background { rgb <1, 1, 1> }\n",
      "light_source { <9, 5.1962, 6> rgb <1, 1, 1> }\n",
      "cylinder {\n",
      "  <0, 0, 0>, <1, 0, 0>, 0.1\n",
      "  pigment { color Red transmit 0.5 }\n",
      "}\n",
      "cylinder {\n",
      "  <0, 0, 0>, <0, 1, 0>, 0.1\n",
      "  pigment { color rgbf <0, 0.502, 0, 0.5> }\n",
      "}\n",
      "cylinder {\n",
      "  <0, 0, 0>, <0, 0, 1>, 0.1\n",
      "  pigment { color rgbft <0, 0, 1, 0.5, 0.5> }\n",
      "}\n"
     ]
    }
   ],
   "source": [
    "print(str(scene))"
   ]
  },
  {
   "cell_type": "code",
   "execution_count": 3,
   "metadata": {},
   "outputs": [
    {
     "data": {
      "text/plain": [
       "'cylinder {\\n  <0, 0, 0>, <1, 0, 0>, 0.1\\n  pigment { color rgb <1, 0, 0> }\\n}'"
      ]
     },
     "execution_count": 3,
     "metadata": {},
     "output_type": "execute_result"
    }
   ],
   "source": [
    "str(Cylinder((0, 0, 0), (1, 0, 0), 0.1, Color(\"red\")))"
   ]
  },
  {
   "cell_type": "code",
   "execution_count": null,
   "metadata": {},
   "outputs": [],
   "source": []
  }
 ],
 "metadata": {
  "kernelspec": {
   "display_name": ".venv",
   "language": "python",
   "name": "python3"
  },
  "language_info": {
   "codemirror_mode": {
    "name": "ipython",
    "version": 3
   },
   "file_extension": ".py",
   "mimetype": "text/x-python",
   "name": "python",
   "nbconvert_exporter": "python",
   "pygments_lexer": "ipython3",
   "version": "3.13.2"
  }
 },
 "nbformat": 4,
 "nbformat_minor": 2
}
