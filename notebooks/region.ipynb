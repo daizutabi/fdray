{
 "cells": [
  {
   "cell_type": "code",
   "execution_count": 3,
   "metadata": {},
   "outputs": [
    {
     "data": {
      "image/png": "[encoded data removed]",
      "text/plain": [
       "<PIL.Image.Image image mode=RGBA size=300x300>"
      ]
     },
     "execution_count": 3,
     "metadata": {},
     "output_type": "execute_result"
    }
   ],
   "source": [
    "from PIL import Image\n",
    "\n",
    "from fdray import Background, Camera, Color, SphereSweep, LightSource, Renderer, Scene\n",
    "\n",
    "camera = Camera(0, 0, view_scale=2.1, distance=10)\n",
    "scene = Scene(\n",
    "    camera,\n",
    "    Background(\"white\", alpha=0.1),\n",
    "    LightSource(camera.location, \"white\"),\n",
    "    SphereSweep(\n",
    "        \"b_spline\",\n",
    "        [(0, 0, 0), (0, 0, 1), (1, 1, 1), (2, 1, 1)],\n",
    "        0.1,\n",
    "        \"red\",\n",
    "    )\n",
    "    .translate(0, 0, 0.1)\n",
    "    .rotate(10, 20, 0),\n",
    ")\n",
    "renderer = Renderer(width=300, height=300)\n",
    "a = renderer.render(scene)\n",
    "Image.fromarray(a)\n"
   ]
  },
  {
   "cell_type": "markdown",
   "metadata": {},
   "source": []
  },
  {
   "cell_type": "code",
   "execution_count": 4,
   "metadata": {},
   "outputs": [
    {
     "name": "stdout",
     "output_type": "stream",
     "text": [
      "#version 3.7;\n",
      "global_settings { assumed_gamma 1 }\n",
      "camera { location <10, 0, 0> look_at <0, 0, 0> direction <10, 0, 0> right <-0, -4.8497, -0> up <0, 0, 3.6373> sky <0, 0, 1> }\n",
      "background { rgbt <1, 1, 1, 0.9> }\n",
      "light_source { <10, 0, 0> color rgb <1, 1, 1> }\n",
      "sphere_sweep {\n",
      "  b_spline, 4\n",
      "  <0, 0, 0>, 0.1, <0, 0, 1>, 0.1, <1, 1, 1>, 0.1, <2, 1, 1>, 0.1\n",
      "  pigment { rgb <1, 0, 0> }\n",
      "  translate <0, 0, 0.1>\n",
      "  rotate <10, 20, 0>\n",
      "}\n"
     ]
    }
   ],
   "source": [
    "print(str(scene))"
   ]
  },
  {
   "cell_type": "code",
   "execution_count": 4,
   "metadata": {},
   "outputs": [
    {
     "name": "stdout",
     "output_type": "stream",
     "text": [
      "[[(0, 0, 0), (0, 0, 1), (1, 1, 1), (2, 1, 1)], 0.1, 'b_spline']\n",
      "[<fdray.colors.Color object at 0x7fd74047ae90>]\n"
     ]
    }
   ],
   "source": [
    "a = SphereSweep(\n",
    "    \"b_spline\",\n",
    "    [(0, 0, 0), (0, 0, 1), (1, 1, 1), (2, 1, 1)],\n",
    "    0.1,\n",
    "    \"red\",\n",
    ")\n",
    "print(a.args)\n",
    "print(a.attrs)\n"
   ]
  },
  {
   "cell_type": "code",
   "execution_count": 5,
   "metadata": {},
   "outputs": [
    {
     "name": "stdout",
     "output_type": "stream",
     "text": [
      "[0.1, 'b_spline', [(0, 0, 0), (0, 0, 1), (1, 1, 1), (2, 1, 1)]]\n",
      "[<fdray.colors.Color object at 0x7fd74047ae90>, Transform(scale=None, rotate=None, translate=(0, 0, 1))]\n"
     ]
    }
   ],
   "source": [
    "b = a.translate(0, 0, 1)\n",
    "print(b.args)\n",
    "print(b.attrs)\n"
   ]
  },
  {
   "cell_type": "code",
   "execution_count": null,
   "metadata": {},
   "outputs": [],
   "source": []
  }
 ],
 "metadata": {
  "kernelspec": {
   "display_name": ".venv",
   "language": "python",
   "name": "python3"
  },
  "language_info": {
   "codemirror_mode": {
    "name": "ipython",
    "version": 3
   },
   "file_extension": ".py",
   "mimetype": "text/x-python",
   "name": "python",
   "nbconvert_exporter": "python",
   "pygments_lexer": "ipython3",
   "version": "3.13.2"
  }
 },
 "nbformat": 4,
 "nbformat_minor": 2
}
