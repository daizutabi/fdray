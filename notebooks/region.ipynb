{
 "cells": [
  {
   "cell_type": "code",
   "execution_count": 1,
   "metadata": {},
   "outputs": [
    {
     "data": {
      "image/png": "[encoded data removed]",
      "text/plain": [
       "<PIL.Image.Image image mode=RGBA size=300x300>"
      ]
     },
     "execution_count": 1,
     "metadata": {},
     "output_type": "execute_result"
    }
   ],
   "source": [
    "from PIL import Image\n",
    "\n",
    "from fdray import Background, Camera, Color, Cylinder, LightSource, Renderer, Scene\n",
    "\n",
    "camera = Camera(0, 0, view_scale=1.1, distance=10)\n",
    "scene = Scene(\n",
    "    camera,\n",
    "    Background(\"white\"),\n",
    "    LightSource(camera.location, \"white\"),\n",
    "    Cylinder((0, 0, 0), (1, 0, 0), 0.1, Color(\"red\")),\n",
    "    Cylinder((0, 0, 0), (0, 1, 0), 0.1, Color(\"green\")),\n",
    "    Cylinder((0, 0, 0), (0, 0, 1), 0.1, Color(\"blue\")),\n",
    ")\n",
    "renderer = Renderer(width=300, height=300)\n",
    "a = renderer.render(scene)\n",
    "Image.fromarray(a)\n"
   ]
  },
  {
   "cell_type": "markdown",
   "metadata": {},
   "source": []
  },
  {
   "cell_type": "code",
   "execution_count": 2,
   "metadata": {},
   "outputs": [
    {
     "name": "stdout",
     "output_type": "stream",
     "text": [
      "#version 3.7;\n",
      "global_settings { assumed_gamma 1 }\n",
      "camera { location <10, 0, 0> look_at <0, 0, 0> direction <10, 0, 0> right <-0, -2.5403, -0> up <0, 0, 1.9053> sky <0, 0, 1> }\n",
      "background { rgb <1, 1, 1> }\n",
      "light_source { <10, 0, 0> color rgb <1, 1, 1> }\n",
      "cylinder {\n",
      "  <0, 0, 0>, <1, 0, 0>, 0.1\n",
      "  pigment { rgb <1, 0, 0> }\n",
      "}\n",
      "cylinder {\n",
      "  <0, 0, 0>, <0, 1, 0>, 0.1\n",
      "  pigment { rgb <0, 0.502, 0> }\n",
      "}\n",
      "cylinder {\n",
      "  <0, 0, 0>, <0, 0, 1>, 0.1\n",
      "  pigment { rgb <0, 0, 1> }\n",
      "}\n"
     ]
    }
   ],
   "source": [
    "print(str(scene))"
   ]
  },
  {
   "cell_type": "code",
   "execution_count": null,
   "metadata": {},
   "outputs": [],
   "source": []
  }
 ],
 "metadata": {
  "kernelspec": {
   "display_name": ".venv",
   "language": "python",
   "name": "python3"
  },
  "language_info": {
   "codemirror_mode": {
    "name": "ipython",
    "version": 3
   },
   "file_extension": ".py",
   "mimetype": "text/x-python",
   "name": "python",
   "nbconvert_exporter": "python",
   "pygments_lexer": "ipython3",
   "version": "3.13.2"
  }
 },
 "nbformat": 4,
 "nbformat_minor": 2
}
